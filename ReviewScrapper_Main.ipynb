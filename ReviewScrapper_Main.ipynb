{
 "cells": [
  {
   "cell_type": "code",
   "execution_count": 1,
   "metadata": {},
   "outputs": [],
   "source": [
    "import requests\n",
    "from requests import get\n",
    "from bs4 import BeautifulSoup\n",
    "import pandas as pd\n",
    "import numpy as np\n",
    "from time import sleep\n",
    "from random import randint"
   ]
  },
  {
   "cell_type": "code",
   "execution_count": 31,
   "metadata": {},
   "outputs": [],
   "source": [
    "pages = np.arange(1,457,1)\n",
    "heading=[]\n",
    "detailed_review=[]\n",
    "user=[]\n",
    "date_posted=[]\n",
    "for page in pages: \n",
    "    url=\"https://www.flipkart.com/apple-iphone-xr-black-64-gb-includes-earpods-power-adapter/product-reviews/itmf9z7zxu4uqyz2?pid=MOBF9Z7ZPHGV4GNH&lid=LSTMOBF9Z7ZPHGV4GNH9IFADQ&marketplace=FLIPKART&page=\"+str(page)\n",
    "    page = requests.get(url)\n",
    "    soup = BeautifulSoup(page.content, 'html.parser')\n",
    "    divv=soup.find_all('div',{'class':'_1YokD2 _3Mn1Gg col-9-12'})\n",
    "    for x in divv:\n",
    "        h=x.find_all('p',{'class':'_2-N8zT'})\n",
    "        for e in h:\n",
    "            heading.append(e.get_text())\n",
    "        detailedreview=x.find_all('div',{'class':'t-ZTKy'})\n",
    "        for j in detailedreview:\n",
    "            detailed_review.append(j.get_text())\n",
    "        username=x.find_all('p',{'class':'_2sc7ZR _2V5EHH'})\n",
    "        for l in username:\n",
    "            user.append(l.get_text())\n",
    "        date=x.find_all('p',{'class':'_2sc7ZR'})\n",
    "        for q in date:\n",
    "            date_posted.append(q.get_text())\n",
    "        "
   ]
  },
  {
   "cell_type": "code",
   "execution_count": 37,
   "metadata": {},
   "outputs": [],
   "source": [
    "data=pd.DataFrame({\n",
    "    'UserName':user,\n",
    "    'Overall_Rating':heading,\n",
    "    'Description':detailed_review\n",
    "})"
   ]
  },
  {
   "cell_type": "code",
   "execution_count": 39,
   "metadata": {},
   "outputs": [
    {
     "data": {
      "text/plain": [
       "(4550, 3)"
      ]
     },
     "execution_count": 39,
     "metadata": {},
     "output_type": "execute_result"
    }
   ],
   "source": [
    "data.shape"
   ]
  },
  {
   "cell_type": "code",
   "execution_count": 40,
   "metadata": {},
   "outputs": [],
   "source": [
    "data.to_csv('/Users/shwetabh/Desktop/Review_Data.csv')"
   ]
  },
  {
   "cell_type": "code",
   "execution_count": null,
   "metadata": {},
   "outputs": [],
   "source": []
  }
 ],
 "metadata": {
  "kernelspec": {
   "display_name": "Python 3",
   "language": "python",
   "name": "python3"
  },
  "language_info": {
   "codemirror_mode": {
    "name": "ipython",
    "version": 3
   },
   "file_extension": ".py",
   "mimetype": "text/x-python",
   "name": "python",
   "nbconvert_exporter": "python",
   "pygments_lexer": "ipython3",
   "version": "3.8.3"
  }
 },
 "nbformat": 4,
 "nbformat_minor": 4
}
